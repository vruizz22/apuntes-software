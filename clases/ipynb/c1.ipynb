{
 "cells": [
  {
   "cell_type": "markdown",
   "metadata": {},
   "source": [
    "# Ruby conceptos basicos\n",
    "\n",
    "Es un lenguaje de POO (orientado a objetos) donde todo es un objeto\n",
    "\n",
    "Insipirado de python y perl.\n",
    "\n",
    "## Como ejecutar Ruby?\n",
    "\n",
    "En consola \n",
    "\n",
    "```bash\n",
    "irb\n",
    "\n",
    "puts \"Hello World!\"\n",
    "```\n",
    "\n",
    "Ejectuando un archivo"
   ]
  },
  {
   "cell_type": "code",
   "execution_count": null,
   "metadata": {
    "vscode": {
     "languageId": "ruby"
    }
   },
   "outputs": [],
   "source": [
    "# Este archivo seria hello.rb\n",
    "puts \"Hola Mundo\""
   ]
  },
  {
   "cell_type": "markdown",
   "metadata": {},
   "source": [
    "Para ejecturar los archivos de ruby solo abri que ejectuar el nombre por ejemplo\n",
    "\n",
    "```bash\n",
    "ruby hola_mundo.rb\n",
    "```"
   ]
  },
  {
   "cell_type": "markdown",
   "metadata": {},
   "source": [
    "## Tipos de Datos"
   ]
  },
  {
   "cell_type": "code",
   "execution_count": null,
   "metadata": {
    "vscode": {
     "languageId": "ruby"
    }
   },
   "outputs": [],
   "source": [
    "# Un comentario\n",
    "=begin\n",
    "  Un comentario\n",
    "  de varias lineas\n",
    "=end\n",
    "\n",
    "a_message = \"Hello Ingenieria de Software\" # un string\n",
    "another_message = 'Hello Ingenieria de Software' # otro string\n",
    "an_integer = 1 # un entero\n",
    "a_float = 1.0 # un flotante\n",
    "a_boolean = true # un booleano"
   ]
  },
  {
   "cell_type": "markdown",
   "metadata": {},
   "source": [
    "## Operadores basicos: numeros"
   ]
  },
  {
   "cell_type": "code",
   "execution_count": null,
   "metadata": {
    "vscode": {
     "languageId": "ruby"
    }
   },
   "outputs": [],
   "source": [
    "puts 1234.class # Integer\n",
    "puts 0.3.class # Float\n",
    "puts 1 + 2\n",
    "puts 0.1 + 4\n",
    "puts 2 * 3\n",
    "puts 5 / 2\n",
    "puts 5.0 / 2\n",
    "puts 5 / 2.to_f"
   ]
  },
  {
   "cell_type": "markdown",
   "metadata": {},
   "source": [
    "## Operadores basicos: Comparacion"
   ]
  },
  {
   "cell_type": "code",
   "execution_count": null,
   "metadata": {
    "vscode": {
     "languageId": "ruby"
    }
   },
   "outputs": [],
   "source": [
    "10 == 10 # true\n",
    "'a' == 'b' # false\n",
    "'10' == 10 # false\n",
    "5 < 2 # false\n",
    "2 <= 3 # true\n",
    "2 < 3 && 10 > 5 # true, Y (and)\n",
    "7 < 3 || 10 > 5 # false, O (or)\n",
    "!(7 < 3) # true, Negacion (not)\n",
    "10.eql?(10.0) # false"
   ]
  },
  {
   "cell_type": "markdown",
   "metadata": {},
   "source": [
    "## Metodos\n",
    "\n",
    "* Definimos entre def y end\n",
    "* por defecto retorna la ultima linea\n",
    "* para agregar un valor por defecto a un argumento se usa =valor"
   ]
  },
  {
   "cell_type": "code",
   "execution_count": null,
   "metadata": {
    "vscode": {
     "languageId": "ruby"
    }
   },
   "outputs": [],
   "source": [
    "def greet(name='Pepito'):\n",
    "  \"Welcome to Ingenieria de Software #{name} :)\"\n",
    "end\n",
    "name = gets.chomp\n",
    "puts greet(name)"
   ]
  },
  {
   "cell_type": "markdown",
   "metadata": {},
   "source": [
    "## Rangos\n",
    "* con dos puntos (..) incluye ambos limites\n",
    "* con tres puntos (...) excluye el limite superior"
   ]
  },
  {
   "cell_type": "code",
   "execution_count": null,
   "metadata": {
    "vscode": {
     "languageId": "ruby"
    }
   },
   "outputs": [],
   "source": [
    "# El metodo to_a convierte el rango en un array\n",
    "(1..9).to_a # [1, 2, 3, 4, 5, 6, 7, 8, 9]\n",
    "(\"a\"...\"d\").include?(\"c\") # comprueba si tiene c\n",
    "(1...4) === 3.141593 # comprueba si esta dentro del rango el ==="
   ]
  },
  {
   "cell_type": "markdown",
   "metadata": {},
   "source": [
    "## Arrays\n",
    "\n",
    "Un array es un conjunto ordenando: cada pisicion en la lista es una variable que podemos leer y/o escribir"
   ]
  },
  {
   "cell_type": "code",
   "execution_count": null,
   "metadata": {
    "vscode": {
     "languageId": "ruby"
    }
   },
   "outputs": [],
   "source": [
    "a = [1, \"Ruby\", 0.3, nil, 1..4]\n",
    "#los indices partende desde el 0\n",
    "a[0] # 1\n",
    "# si el elemnto no existe devuelve nil\n",
    "a[10] # nil\n",
    "# podemos agregar elementos al array\n",
    "a[5] = \"new element\"\n",
    "# %w nos permite crear un array de string\n",
    "ciudades = %w{ Santiago Concepcion Iquique Pucon }\n",
    "# p, puts y printimprimen disitnots formatos\n",
    "p ciudades # [\"Santiago\", \"Concepcion\", \"Iquique\", \"Pucon\"]\n",
    "puts ciudades # Santiago\\nConcepcion\\nIquique\\nPucon\n",
    "print ciudades # SantiagoConcepcion\n",
    "# el metoodo each acepta un bloque de codigo\n",
    "# y lo ejecuta una vez por cada elemento del array como parametro\n",
    "ciudades.each{|ciudad| puts 'Me gustaba ' + ciudad +'!'}\n",
    "ciudades.sort # [\"Concepcion\", \"Iquique\", \"Pucon\", \"Santiago\"] sortea el array de forma ascendente, en textos es por orden alfabetico\n",
    "ciudades.sort{|a,b| b <=> a} # [\"Santiago\", \"Pucon\", \"Iquique\", \"Concepcion\"] sortea el array de forma descendente\n",
    "ciudades.length # 4\n",
    "ciudades.first # Santiagoqq\n",
    "ciudades.last # Pucon\n",
    "ciudades.append(\"Valparaiso\") # [\"Santiago\", \"Concepcion\", \"Iquique\", \"Pucon\", \"Valparaiso\"]\n",
    "ciudades << \"La Serana\" # [\"Santiago\", \"Concepcion\", \"Iquique\", \"Pucon\", \"Valparaiso\", \"La Serana\"]\n",
    "ciudades.index(\"Valparaiso\") # 4\n",
    "ciudades.index"
   ]
  }
 ],
 "metadata": {
  "kernelspec": {
   "display_name": "Python 3",
   "language": "python",
   "name": "python3"
  },
  "language_info": {
   "codemirror_mode": {
    "name": "ipython",
    "version": 3
   },
   "file_extension": ".py",
   "mimetype": "text/x-python",
   "name": "python",
   "nbconvert_exporter": "python",
   "pygments_lexer": "ipython3",
   "version": "3.11.9"
  }
 },
 "nbformat": 4,
 "nbformat_minor": 2
}
