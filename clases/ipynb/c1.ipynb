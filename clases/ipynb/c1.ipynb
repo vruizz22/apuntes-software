{
 "cells": [
  {
   "cell_type": "markdown",
   "metadata": {},
   "source": [
    "# Ruby conceptos basicos\n",
    "\n",
    "Es un lenguaje de POO (orientado a objetos) donde todo es un objeto\n",
    "\n",
    "Insipirado de python y perl.\n",
    "\n",
    "## Como ejecutar Ruby?\n",
    "\n",
    "En consola \n",
    "\n",
    "```bash\n",
    "irb\n",
    "\n",
    "puts \"Hello World!\"\n",
    "```\n",
    "\n",
    "Ejectuando un archivo"
   ]
  },
  {
   "cell_type": "code",
   "execution_count": null,
   "metadata": {
    "vscode": {
     "languageId": "ruby"
    }
   },
   "outputs": [],
   "source": [
    "# Este archivo seria hello.rb\n",
    "puts \"Hola Mundo\""
   ]
  },
  {
   "cell_type": "markdown",
   "metadata": {},
   "source": [
    "Para ejecturar los archivos de ruby solo abri que ejectuar el nombre por ejemplo\n",
    "\n",
    "```bash\n",
    "ruby hola_mundo.rb\n",
    "```"
   ]
  },
  {
   "cell_type": "markdown",
   "metadata": {},
   "source": [
    "## Tipos de Datos"
   ]
  },
  {
   "cell_type": "code",
   "execution_count": null,
   "metadata": {
    "vscode": {
     "languageId": "ruby"
    }
   },
   "outputs": [],
   "source": [
    "# Un comentario\n",
    "=begin\n",
    "  Un comentario\n",
    "  de varias lineas\n",
    "=end\n",
    "\n",
    "a_message = \"Hello Ingenieria de Software\" # un string\n",
    "another_message = 'Hello Ingenieria de Software' # otro string\n",
    "an_integer = 1 # un entero\n",
    "a_float = 1.0 # un flotante\n",
    "a_boolean = true # un booleano"
   ]
  },
  {
   "cell_type": "markdown",
   "metadata": {},
   "source": [
    "## Operadores basicos: numeros"
   ]
  },
  {
   "cell_type": "code",
   "execution_count": null,
   "metadata": {
    "vscode": {
     "languageId": "ruby"
    }
   },
   "outputs": [],
   "source": [
    "puts 1234.class # Integer\n",
    "puts 0.3.class # Float\n",
    "puts 1 + 2\n",
    "puts 0.1 + 4\n",
    "puts 2 * 3\n",
    "puts 5 / 2\n",
    "puts 5.0 / 2\n",
    "puts 5 / 2.to_f"
   ]
  },
  {
   "cell_type": "markdown",
   "metadata": {},
   "source": [
    "## Operadores basicos: Comparacion"
   ]
  },
  {
   "cell_type": "code",
   "execution_count": null,
   "metadata": {
    "vscode": {
     "languageId": "ruby"
    }
   },
   "outputs": [],
   "source": [
    "10 == 10 # true\n",
    "'a' == 'b' # false\n",
    "'10' == 10 # false\n",
    "5 < 2 # false\n",
    "2 <= 3 # true\n",
    "2 < 3 && 10 > 5 # true, Y (and)\n",
    "7 < 3 || 10 > 5 # false, O (or)\n",
    "!(7 < 3) # true, Negacion (not)\n",
    "10.eql?(10.0) # false"
   ]
  },
  {
   "cell_type": "markdown",
   "metadata": {},
   "source": [
    "## Metodos\n",
    "\n",
    "* Definimos entre def y end\n",
    "* por defecto retorna la ultima linea\n",
    "* para agregar un valor por defecto a un argumento se usa =valor"
   ]
  },
  {
   "cell_type": "code",
   "execution_count": null,
   "metadata": {
    "vscode": {
     "languageId": "ruby"
    }
   },
   "outputs": [],
   "source": [
    "def greet(name='Pepito'):\n",
    "  \"Welcome to Ingenieria de Software #{name} :)\"\n",
    "end\n",
    "name = gets.chomp\n",
    "puts greet(name)"
   ]
  },
  {
   "cell_type": "markdown",
   "metadata": {},
   "source": [
    "## Rangos\n",
    "* con dos puntos (..) incluye ambos limites\n",
    "* con tres puntos (...) excluye el limite superior"
   ]
  },
  {
   "cell_type": "code",
   "execution_count": null,
   "metadata": {
    "vscode": {
     "languageId": "ruby"
    }
   },
   "outputs": [],
   "source": [
    "# El metodo to_a convierte el rango en un array\n",
    "(1..9).to_a # [1, 2, 3, 4, 5, 6, 7, 8, 9]\n",
    "(\"a\"...\"d\").include?(\"c\") # comprueba si tiene c\n",
    "(1...4) === 3.141593 # comprueba si esta dentro del rango el ==="
   ]
  },
  {
   "cell_type": "markdown",
   "metadata": {},
   "source": [
    "## Arrays\n",
    "\n",
    "Un array es un conjunto ordenando: cada pisicion en la lista es una variable que podemos leer y/o escribir"
   ]
  },
  {
   "cell_type": "code",
   "execution_count": null,
   "metadata": {
    "vscode": {
     "languageId": "ruby"
    }
   },
   "outputs": [],
   "source": [
    "a = [1, \"Ruby\", 0.3, nil, 1..4]\n",
    "#los indices partende desde el 0\n",
    "a[0] # 1\n",
    "# si el elemnto no existe devuelve nil\n",
    "a[10] # nil\n",
    "# podemos agregar elementos al array\n",
    "a[5] = \"new element\"\n",
    "# %w nos permite crear un array de string\n",
    "ciudades = %w{ Santiago Concepcion Iquique Pucon }\n",
    "# p, puts y printimprimen disitnots formatos\n",
    "p ciudades # [\"Santiago\", \"Concepcion\", \"Iquique\", \"Pucon\"]\n",
    "puts ciudades # Santiago\\nConcepcion\\nIquique\\nPucon\n",
    "print ciudades # SantiagoConcepcion\n",
    "# el metoodo each acepta un bloque de codigo\n",
    "# y lo ejecuta una vez por cada elemento del array como parametro\n",
    "ciudades.each{|ciudad| puts 'Me gustaba ' + ciudad +'!'}\n",
    "ciudades.sort # [\"Concepcion\", \"Iquique\", \"Pucon\", \"Santiago\"] sortea el array de forma ascendente, en textos es por orden alfabetico\n",
    "ciudades.sort{|a,b| b <=> a} # [\"Santiago\", \"Pucon\", \"Iquique\", \"Concepcion\"] sortea el array de forma descendente\n",
    "ciudades.length # 4\n",
    "ciudades.first # Santiagoqq\n",
    "ciudades.last # Pucon\n",
    "ciudades.append(\"Valparaiso\") # [\"Santiago\", \"Concepcion\", \"Iquique\", \"Pucon\", \"Valparaiso\"]\n",
    "ciudades << \"La Serana\" # [\"Santiago\", \"Concepcion\", \"Iquique\", \"Pucon\", \"Valparaiso\", \"La Serana\"]\n",
    "ciudades.index(\"Valparaiso\") # 4\n",
    "ciudades.unsshift(\"Santiago\") # [\"Santiago\", \"Santiago\", \"Concepcion\", \"Iquique\", \"Pucon\", \"Valparaiso\", \"La Serana\"]\n",
    "ciudades.uniq # [\"Santiago\", \"Concepcion\", \"Iquique\", \"Pucon\", \"Valparaiso\", \"La Serana\"] elimina los elementos duplicados\n",
    "ciudades.uniq! # [\"Santiago\", \"Concepcion\", \"Iquique\", \"Pucon\", \"Valparaiso\", \"La Serana\"] elimina los elementos duplicados y modifica el array original\n",
    "ciudades.empty? # false, comprueba si el array esta vacio\n",
    "ciudades.include?(\"Santiago\") # true, comprueba si el array contiene el elemento\n",
    "ciudades.push(\"\") # [\"Santiago\", \"Concepcion\", \"Iquique\", \"Pucon\", \"Valparaiso\", \"La Serana\", \"\"]\n",
    "ciudades.pop # [\"Santiago\", \"Concepcion\", \"Iquique\", \"Pucon\", \"Valparaiso\", \"La Serana\"] elimina el ultimo elemento\n",
    "ciudades.join # \"SantiagoConcepcionIquiquePuconValparaisoLa Serana\" une los elementos del array en un string\n",
    "ciudades.join(\"-\") # \"Santiago-Concepcion-Iquique-Pucon-Valparaiso-La Serana\" une los elementos del array en un string separados por un guion\n",
    "ciudades.shuffle # [\"Iquique\", \"Pucon\", \"Santiago\", \"Valparaiso\", \"Concepcion\", \"La Serana\"] mezcla los elementos del array de forma aleatoria\n",
    "ciudades.select{|ciudad| ciudad.length > 8} # [\"Concepcion\", \"Valparaiso\", \"La Serana\"] selecciona los elementos que cumplan con la condicion\n",
    "p ciudades.methods # muestra los metodos disponibles para el array"
   ]
  },
  {
   "cell_type": "markdown",
   "metadata": {},
   "source": [
    "## Hashes\n",
    "Un hash es una colecion de claves unicas y sus valores, similar a un diccionario"
   ]
  },
  {
   "cell_type": "code",
   "execution_count": null,
   "metadata": {
    "vscode": {
     "languageId": "ruby"
    }
   },
   "outputs": [],
   "source": [
    "numeros = {\"one\" => \"eins\", \"two\" => \"zwei\"}\n",
    "numeros[\"three\"] = \"drei\"\n",
    "numeros[\"one\"] = \"uno\" # Actualiza el valor\n",
    "numeros.keys # [\"one\", \"two\", \"three\"]\n",
    "numeros.values # [\"uno\", \"zwei\", \"drei\"]\n",
    "numeros.length # 3"
   ]
  },
  {
   "cell_type": "markdown",
   "metadata": {},
   "source": [
    "## Bloques\n",
    "Un bloque es una pieza de codigo que puede acpetar argumentos y devuelve un valor, siempre es un parametro en la llamada de un metodo\n",
    "```bash\n",
    "metodo {codigo}\n",
    "\n",
    "metodo {|parametro1, parametro2| codigo}\n",
    "```\n"
   ]
  },
  {
   "cell_type": "code",
   "execution_count": null,
   "metadata": {
    "vscode": {
     "languageId": "ruby"
    }
   },
   "outputs": [],
   "source": [
    "2.times {puts \"Hello World\"} # ejecuta el bloque de codigo 2 veces\n",
    "=begin\n",
    "  Hello World\n",
    "  Hello World\n",
    "=end\n",
    "\n",
    "[\"Sofía\", \"Tomás\", \"Juan\"].each { |name| puts \"Hello #{name}\" }\n",
    "=begin\n",
    "  Hello Sofía\n",
    "  Hello Tomás\n",
    "  Hello Juan\n",
    "=end"
   ]
  },
  {
   "cell_type": "markdown",
   "metadata": {},
   "source": [
    "### Otros iteradores"
   ]
  },
  {
   "cell_type": "code",
   "execution_count": null,
   "metadata": {
    "vscode": {
     "languageId": "ruby"
    }
   },
   "outputs": [],
   "source": [
    "1.upto(5) { |i| print i, \" \" } # 1 2 3 4 5\n",
    "99.downto(95) { |i| print i, \" \" } # 99 98 97 96 95\n",
    "50.step(80, 5) { |i| print i, \" \" } # 50 55 60 65 70 75 80"
   ]
  },
  {
   "cell_type": "code",
   "execution_count": null,
   "metadata": {
    "vscode": {
     "languageId": "ruby"
    }
   },
   "outputs": [],
   "source": [
    "def greet(name)\n",
    "  puts \"Hello #{name} :)\"\n",
    "  yield name\n",
    "  puts \"Goodbye #{name}!\"\n",
    "end\n",
    "\n",
    "greet(\"Sofía\") { |name| puts \"Nice to meet you, #{name}\" }\n",
    "=begin\n",
    "  Hello Sofía :)\n",
    "  Nice to meet you, Sofía\n",
    "  Goodbye Sofía!\n",
    "=end"
   ]
  },
  {
   "cell_type": "markdown",
   "metadata": {},
   "source": [
    "### Bloques: Alternativas"
   ]
  },
  {
   "cell_type": "code",
   "execution_count": null,
   "metadata": {
    "vscode": {
     "languageId": "ruby"
    }
   },
   "outputs": [],
   "source": [
    "# Evita errores por llamar a un bloque y que no exista\n",
    "def example\n",
    "  yield if block_given?\n",
    "end\n",
    "\n",
    "# puedes aceptar block como argumento explicitamente\n",
    "def example(&block)\n",
    "  block.call if block\n",
    "end\n",
    "\n",
    "example { puts \"This is a block!\" } # This is a block!"
   ]
  },
  {
   "cell_type": "markdown",
   "metadata": {},
   "source": [
    "## Control de flujo\n",
    "En ruby nil y false son falso, todo el resto es verdadjero, incluyendo {}, [], 0 y \"\"."
   ]
  },
  {
   "cell_type": "code",
   "execution_count": null,
   "metadata": {
    "vscode": {
     "languageId": "ruby"
    }
   },
   "outputs": [],
   "source": [
    "condition_1 = true\n",
    "condition_2 = false\n",
    "if condition_1 && condition_2\n",
    "  puts \"Ambas son verdaderas\"\n",
    "else\n",
    "  puts \"Al menos una es falsa\"\n",
    "end"
   ]
  },
  {
   "cell_type": "code",
   "execution_count": null,
   "metadata": {
    "vscode": {
     "languageId": "ruby"
    }
   },
   "outputs": [],
   "source": [
    "condition_1 = false\n",
    "condition_2 = false\n",
    "if condition_1 || condition_2\n",
    "  puts \"Al menos una es verdadera\"\n",
    "else\n",
    "  puts \"Ambas son falsas\"\n",
    "end"
   ]
  },
  {
   "cell_type": "code",
   "execution_count": null,
   "metadata": {
    "vscode": {
     "languageId": "ruby"
    }
   },
   "outputs": [],
   "source": [
    "condition_1 = false\n",
    "condition_2 = false\n",
    "if condition_1 && condition_2\n",
    "  puts \"Ambas condiciones verdaderas\"\n",
    "elsif condition_1 || condition_2\n",
    "  puts \"Al menos una condición verdadera\"\n",
    "else\n",
    "  puts \"Ninguna condición verdadera\"\n",
    "end\n"
   ]
  },
  {
   "cell_type": "code",
   "execution_count": null,
   "metadata": {
    "vscode": {
     "languageId": "ruby"
    }
   },
   "outputs": [],
   "source": [
    "numero = 10\n",
    "es_par = case\n",
    "  when numero % 2 == 0 then true\n",
    "  when numero % 2 != 0 then false\n",
    "end"
   ]
  },
  {
   "cell_type": "markdown",
   "metadata": {},
   "source": [
    "## Bucles: For, While, Until"
   ]
  },
  {
   "cell_type": "code",
   "execution_count": null,
   "metadata": {
    "vscode": {
     "languageId": "ruby"
    }
   },
   "outputs": [],
   "source": [
    "for i in 1...5 # no incluye 5\n",
    "  puts \"Iteracion #{i}\"\n",
    "end\n",
    "\n",
    "i = 0\n",
    "while i < 5\n",
    "  puts \"Iteracion #{i}\"\n",
    "  i += 1\n",
    "end\n",
    "\n",
    "i = 1\n",
    "until i > 5\n",
    "  puts \"Iteracion #{i}\"\n",
    "  i += 1\n",
    "end"
   ]
  },
  {
   "cell_type": "markdown",
   "metadata": {},
   "source": [
    "## Clases y objetos\n",
    "Un objeto es un contenedor de datos, que a su vez controla el acceso a dichos datos, todo en ruby es objeto incluso nil,"
   ]
  },
  {
   "cell_type": "code",
   "execution_count": null,
   "metadata": {
    "vscode": {
     "languageId": "ruby"
    }
   },
   "outputs": [],
   "source": [
    "class Song\n",
    "  def initialize(name, artist, duration)\n",
    "    @name = name\n",
    "    @artist = artist\n",
    "    @duration = duration\n",
    "  end\n",
    "end\n",
    "\n",
    "my_song = Song.new(\"Love Story\", \"Taylor Swift\", 235)\n",
    "\n",
    "class Song\n",
    "  ...\n",
    "  def to_s # sobreescribimos to_s\n",
    "    \"Song: #{@name}--#{@artirst}--#{@duration}\"\n",
    "  end\n",
    "end\n",
    "\n",
    "puts my_song.to_s # Song: Love Story--Taylor Swift--235\n",
    "\n",
    "class Song\n",
    "  attr_reader :name, :artist # permite lectura\n",
    "  attr_writer :name # permite escritura\n",
    "  attr_accessor :duration # permite ambos\n",
    "  ...\n",
    "end\n",
    "\n",
    "puts my_song.name # Love Story\n",
    "my_song.name = \"Love Story (Taylor's version)\"\n",
    "\n",
    "class KaraokeSong < Song\n",
    "  def initialize.new(name, artist, duration, lyrics)\n",
    "    super(name, artist, duration)\n",
    "    @lyrics = lyrics\n",
    "  end\n",
    "end\n",
    "lyrics = \"We were both young when I first saw you...\"\n",
    "karaoke_song = Song(\"Love Story\", \"Taylor Swift\", 235, lyrics)\n",
    " \n",
    "class KaraokeSong < Song # usa < para herencia\n",
    "  ...\n",
    "  def to_s # sobreescribimos to_s\n",
    "    super + \" [#{@lyrics}]\"\n",
    "  end\n",
    "end\n",
    "\n",
    "puts karaoke_song\n",
    "\n",
    "class Example\n",
    "  no_of_example = 0 # variable de clase\n",
    "\n",
    "  def instance_method # metodo de instancia\n",
    "  end\n",
    "\n",
    "  def Example.class_method # metodo de clase\n",
    "  end\n",
    "end"
   ]
  },
  {
   "cell_type": "markdown",
   "metadata": {},
   "source": [
    "## Clase: Control de acceso\n",
    "En ruby tenemos 3 niveles de acceso:\n",
    "* Publico(public): Accesible para todos. Por defecto todos los metodos son publicos menos initialize\n",
    "* Protegido(protected): Accesible solo para los objetos de la misma clase o subclase\n",
    "* Privado(private): Accesible solo dentro de la clase"
   ]
  },
  {
   "cell_type": "markdown",
   "metadata": {},
   "source": [
    "## Variables\n",
    "```bash\n",
    "var, _var # variable local, empieza con [a-z] o\n",
    "@var # variable de instancia\n",
    "@@var # variable de clase\n",
    "$var # variable global\n",
    "```\n",
    "\n"
   ]
  },
  {
   "cell_type": "code",
   "execution_count": null,
   "metadata": {
    "vscode": {
     "languageId": "ruby"
    }
   },
   "outputs": [],
   "source": [
    "class Example\n",
    "private # metodos siguientes son privados\n",
    "  def private_method\n",
    "  end\n",
    "protected # metodos siguientes son protegidos\n",
    "  def protected_method\n",
    "  end\n",
    "public # metodos siguientes son publicos\n",
    "  def public_method\n",
    "  end\n",
    "end"
   ]
  }
 ],
 "metadata": {
  "kernelspec": {
   "display_name": "Python 3",
   "language": "python",
   "name": "python3"
  },
  "language_info": {
   "codemirror_mode": {
    "name": "ipython",
    "version": 3
   },
   "file_extension": ".py",
   "mimetype": "text/x-python",
   "name": "python",
   "nbconvert_exporter": "python",
   "pygments_lexer": "ipython3",
   "version": "3.11.9"
  }
 },
 "nbformat": 4,
 "nbformat_minor": 2
}
