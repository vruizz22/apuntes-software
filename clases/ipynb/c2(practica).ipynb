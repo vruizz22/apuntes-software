{
 "cells": [
  {
   "cell_type": "markdown",
   "metadata": {},
   "source": [
    "# Ruby on rails\n",
    "\n",
    "Es un framework de desaroollo de **apps web** escrito en ruby.\n",
    "\n",
    "**App web** es un programa o sftware que se ejecuta en un servidor al que se accede a travaes de un navegador web\n",
    "\n",
    "**Protocolo HTTP (Hypertext Transfer Protocol)** Es un protocolo de comunicacion utilizado para la transferencia de info en la web"
   ]
  },
  {
   "cell_type": "markdown",
   "metadata": {},
   "source": [
    "## Crear una API\n",
    "\n",
    "Crearemos una aplicacion, se instalan dependecas de gemas definidas en Gemfile usando bundle install\n",
    "\n",
    "```bash\n",
    "rails new my_recipes --database=postgresql --api\n",
    "\n",
    "cd my_recipes\n",
    "\n",
    "```"
   ]
  }
 ],
 "metadata": {
  "kernelspec": {
   "display_name": "Python 3",
   "language": "python",
   "name": "python3"
  },
  "language_info": {
   "name": "python",
   "version": "3.11.9"
  }
 },
 "nbformat": 4,
 "nbformat_minor": 2
}
