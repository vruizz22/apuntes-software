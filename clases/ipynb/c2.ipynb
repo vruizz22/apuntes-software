{
 "cells": [
  {
   "cell_type": "markdown",
   "metadata": {},
   "source": [
    "# Procesos del Desarrollo de Software"
   ]
  },
  {
   "cell_type": "markdown",
   "metadata": {},
   "source": [
    "## Que es un proceso de desarollo de software?\n",
    "\n",
    "Un proceso de desarrollo de software es un **conjunto estructurado de actividades requridas para desarrollar un sistema de software**"
   ]
  },
  {
   "cell_type": "markdown",
   "metadata": {},
   "source": [
    "## Para que necesitamos procesos?\n",
    "\n",
    "Se necesitan procesos de desarrollo **bien definidos, entendibles y repetibles** para:\n",
    "\n",
    "* Encontrar y mantener buenas practicas\n",
    "* Administrar recursos, estimar y planear:\n",
    "  - Como saber **que debemos hacer depsues?**\n",
    "  - Como saber **en que tarea vamos** y cua haremos despues?\n",
    "  - Como sabesmos si **estamos tarde**?\n",
    "  - COmo medios el **progreso**?\n",
    "  - Como estimamos el **tiempo o costo?**\n",
    "  - Como nuevos miembros del equipo sabran que hacer?\n",
    "\n"
   ]
  },
  {
   "cell_type": "markdown",
   "metadata": {},
   "source": [
    "## Que es un proceso de desarollo de software?\n",
    "\n",
    "Es **crear y traducir necesidades de las personas en**\n",
    "\n",
    "* Especificacion del software\n",
    "* Diseno e implementacion de software\n",
    "* Validacion del software\n",
    "* Evolucion del software\n",
    "\n",
    "Cada actividad puede tener sus entregables, especificar roles y puede requerir herramientas"
   ]
  },
  {
   "cell_type": "markdown",
   "metadata": {},
   "source": [
    "## Tipos de proceso de desarollo\n",
    "\n",
    "1. Proceso en casacada\n",
    "2. Proceso iterativo\n",
    "3. Proceso incremental\n",
    "4. Proceso iterativo e incremental\n",
    "\n",
    "## Proceso en cascada\n",
    "\n",
    "* Cada etapa se ejecuta **una sola vez**\n",
    "* Los resultados de la etapa N son necesarios para empezar con N + 1\n",
    "\n",
    "## Proceso iterativo\n",
    "\n",
    "* Con cada entrega, esperamos **feedback del cliente** para dedicir los siguientes pasos\n",
    "* Se puede **revisar** y **modificar** el plan de desarrollo constantemente\n",
    "\n",
    "## Proceso incremental\n",
    "\n",
    "* COn cada entrega, tenemos una pieza mas del software, pero no terminaremos hasta la ultima pieza\n",
    "* No tenemos el sistema final ni un feedback completo hasta terminar\n",
    "\n",
    "## Proceso iterativo e incremental\n",
    "\n",
    "* Con cada entrega **incluimos funicionalidades nuevas** (incremental)\n",
    "* Con cada entrega incluimos mejoras en funcionalidades existentes (iterativo)\n",
    "\n"
   ]
  },
  {
   "cell_type": "markdown",
   "metadata": {},
   "source": [
    "## Como elegir un proceso?\n",
    "\n",
    "1. **Factores organizacionales y humanos**\n",
    " - El quipo esta trabajando de manera remota, hibrida, o presencial.\n",
    " - Como esta estructurado el equipo: Project Manager, Senior devs, equipo pequeno o grande, Product Manager\n",
    " - Cultura de la empresa\n",
    "\n",
    "2. Factores tecnologicos\n",
    " - Ciclo de vida del producto\n",
    " - Tamano del proyecto y rqeuisitos tecnicos\n",
    "\n",
    "3. Factores del negocio\n",
    " - Que tan famaliarizado estas con el producto\n",
    " - Cada cuanto te piden cambios o mejoras\n",
    " - Que tan rapido cambia el mercado al que estas apuntando\n",
    "\n",
    "4. Facotres regulatorios\n",
    " - Que aprobaciones son necesarias para operar\n",
    " - Necesidad de documentacion especifica\n",
    "\n",
    "Ningun proceso es prefecto ni calzara al 100% para lo que necesitamos dado que depende de muchos factores\n",
    "\n",
    "**La mayoria de las empresas no untilizan un proceso de forma estricta sino que lo persoalisas de acuerdo a sus necesidad**"
   ]
  },
  {
   "cell_type": "markdown",
   "metadata": {},
   "source": [
    "## ejemplos d eproceso\n",
    "\n",
    "* Modelo en cascada\n",
    "* Modelo en espiral\n",
    "* Proceso Unificado\n",
    "* Programacion Extrema\n",
    "* Scrum"
   ]
  },
  {
   "cell_type": "markdown",
   "metadata": {},
   "source": [
    "## Waterfall (Modelo en cascada)\n",
    "\n",
    "Tiene un enfoque secuencial y lineal\n",
    "\n",
    "Sus etapas son indemendienes y se ejecutan una sola vez\n",
    "\n",
    "**Ventajas**\n",
    "- Simpliciadad conceptual\n",
    "\n",
    "**Desventajas**\n",
    "- No hay retroalimentacion\n",
    "- Dificultad para incoprorar cambios\n",
    "- Rigidez: En la practica los resultados de cada etapa no son definiitivos\n",
    "- El riesgo se retrasa para las ultimas etapas\n",
    "\n",
    "**Aplicable a pocos tipos de proyectos (muy cortos)**\n",
    "\n",
    "**Solucion:**\n",
    "\n",
    "Para solucionar las desventajes en la practica es posible devolver estapas permitiendo:\n",
    "\n",
    "- Retroalimentacion\n",
    "- Incoprorar cambios\n",
    "- Poder cambiar los resultados de cada etapa\n",
    "- Mitiar el riesgo"
   ]
  },
  {
   "cell_type": "markdown",
   "metadata": {},
   "source": [
    "## Modelo en espiral\n",
    "\n",
    "Es un modelo iterativo que combina aspectos del modelo en cascada con la idea de iteracion\n",
    "\n",
    "Se puede iterar en ciclos y fasses iterativas\n",
    "\n",
    "**Ventajas**\n",
    "- Analisis de riesgo en cada etapa\n",
    "- Se introduce el proceso iterativo y prototipo\n",
    "- Repeticion explicita de actividades"
   ]
  }
 ],
 "metadata": {
  "kernelspec": {
   "display_name": "Python 3",
   "language": "python",
   "name": "python3"
  },
  "language_info": {
   "name": "python",
   "version": "3.11.9"
  }
 },
 "nbformat": 4,
 "nbformat_minor": 2
}
